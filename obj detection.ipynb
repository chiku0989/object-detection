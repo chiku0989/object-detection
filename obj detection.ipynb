{
 "cells": [
  {
   "cell_type": "code",
   "execution_count": 1,
   "id": "7d843e5b-f71f-4828-9bd4-6e67459a1b49",
   "metadata": {},
   "outputs": [],
   "source": [
    "import cv2 \n",
    "import numpy as np\n",
    "import time \n",
    "\n",
    "class Detector:\n",
    "    def __init__(self, videoPath,configPath,modelPath,classesPath):\n",
    "        self.videoPath = videoPath\n",
    "        self.configPath = configPath\n",
    "        self.modelPath = modelPath\n",
    "        self.classesPath = classesPath\n",
    "\n",
    "\n",
    "        self.net = cv2.dnn_DetectionModel(self.modelPath,self.configPath)\n",
    "        self.net.setInputSize(320,320)\n",
    "        self.net.setInputScale(1.0/127.5)\n",
    "        self.net.setInputMean((127.5,127.5,127.5))\n",
    "        self.net.setInputSwapRB(True)\n",
    "\n",
    "        \n",
    "        self.readClasses()\n",
    "    \n",
    "\n",
    "    def readClasses(self):\n",
    "        with open(self.classesPath, 'r') as f:\n",
    "            self.classesList = f.read().splitlines()\n",
    "\n",
    "        # adding entry at model 0 of the class list\n",
    "        self.classesList.insert(0,\"__background__\")\n",
    "\n",
    "        self.colorList = np.random.uniform(low=0,high=255,size=(len(self.classesList), 3))\n",
    "        print(self.classesList)\n",
    "\n",
    "    def onVideo(self):\n",
    "        cap = cv2.VideoCapture(self.videoPath)\n",
    "        if(cap.isOpened() == False):\n",
    "            print(\"Error in opening the file\")\n",
    "            return\n",
    "        (success,image) = cap.read()\n",
    "        while success:\n",
    "            classLabelIDs, confidences, bboxs = self.net.detect(image,confThreshold = 0.5)\n",
    "            bboxs = list(bboxs)\n",
    "            confidences = list(np.array(confidences).reshape(1,-1)[0])\n",
    "            confidences = list(map(float, confidences))\n",
    "\n",
    "            bboxIdx = cv2.dnn.NMSBoxes(bboxs, confidences, score_threshold = 0.5, nms_threshold = 0.2)\n",
    "            if len(bboxIdx) != 0:\n",
    "                for i in range(0, len(bboxIdx)):\n",
    "                    bbox = bboxs[np.squeeze(bboxIdx[i])]\n",
    "                    classConfidence = confidences[np.squeeze(bboxIdx[i])]\n",
    "                    classLabelID = np.squeeze(classLabelIDs[np.squeeze(bboxIdx[i])])\n",
    "                    classLabel = self.classesList[classLabelID]\n",
    "                    classColor = [int(c) for c in self.colorList[classLabelID]]\n",
    "                    displayText = f\"{classLabel}:{classConfidence*100:.2f}%\"\n",
    "                    x,y,w,h = bbox\n",
    "                    cv2.rectangle(image, (x,y), (x+w, y+h), color = classColor, thickness = 1)\n",
    "                    cv2.putText(image, displayText, (x, y-10), cv2.FONT_HERSHEY_PLAIN,1,classColor,2)\n",
    "            cv2.imshow(\"result\", image)\n",
    "            key = cv2.waitKey(1) & 0xFF\n",
    "            if key == ord(\"q\"):\n",
    "                break\n",
    "            (success, image) = cap.read()\n",
    "        cv2.destroyAllWindows()"
   ]
  },
  {
   "cell_type": "code",
   "execution_count": 3,
   "id": "5e24e653-f2d9-492c-81e1-795623273bd3",
   "metadata": {},
   "outputs": [
    {
     "name": "stdout",
     "output_type": "stream",
     "text": [
      "['__background__', 'person', 'bicycle', 'car', 'motorcycle', 'airplane', 'bus', 'train', 'truck', 'boat', 'traffic light', 'fire hydrant', 'street sign', 'stop sign', 'parking meter', 'bench', 'bird', 'cat', 'dog', 'horse', 'sheep', 'cow', 'elephant', 'bear', 'zebra', 'giraffe', 'hat', 'backpack', 'umbrella', 'shoe', 'eye glasses', 'handbag', 'tie', 'suitcase', 'frisbee', 'skis', 'snowboard', 'sports ball', 'kite', 'baseball bat', 'baseball glove', 'skateboard', 'surfboard', 'tennis racket', 'bottle', 'plate', 'wine glass', 'cup', 'fork', 'knife', 'spoon', 'bowl', 'banana', 'apple', 'sandwich', 'orange', 'broccoli', 'carrot', 'hot dog', 'pizza', 'donut', 'cake', 'chair', 'couch', 'potted plant', 'bed', 'mirror', 'dining table', 'window', 'desk', 'toilet', 'door', 'tv', 'laptop', 'mouse', 'remote', 'keyboard', 'cell phone', 'microwave', 'oven', 'toaster', 'sink', 'refrigerator', 'blender', 'book', 'clock', 'vase', 'scissors', 'teddy bear', 'hair drier', 'toothbrush', 'hair brush']\n"
     ]
    }
   ],
   "source": [
    "import os\n",
    "\n",
    "def main():\n",
    "    videoPath = 0\n",
    "    #videoPath = \"test-videos/test2.mp4\"\n",
    "    configPath = os.path.join(\"model_data\",\"ssd_mobilenet_v3_large_coco_2020_01_14.pbtxt\")\n",
    "    modelPath = os.path.join(\"model_data\",\"frozen_inference_graph.pb\")\n",
    "    classesPath = os.path.join(\"model_data\",\"coco.names\")\n",
    "    detector  = Detector(videoPath,configPath,modelPath,classesPath)\n",
    "    detector.onVideo()\n",
    "    \n",
    "\n",
    "if __name__ == '__main__':\n",
    "    main()"
   ]
  },
  {
   "cell_type": "code",
   "execution_count": null,
   "id": "c43054ca-5dd3-4062-b374-8a9177522fa4",
   "metadata": {},
   "outputs": [],
   "source": []
  },
  {
   "cell_type": "code",
   "execution_count": null,
   "id": "c3fd4ccb-aff0-41a7-a2a0-a8c9edd0aa35",
   "metadata": {},
   "outputs": [],
   "source": []
  }
 ],
 "metadata": {
  "kernelspec": {
   "display_name": "Python 3 (ipykernel)",
   "language": "python",
   "name": "python3"
  },
  "language_info": {
   "codemirror_mode": {
    "name": "ipython",
    "version": 3
   },
   "file_extension": ".py",
   "mimetype": "text/x-python",
   "name": "python",
   "nbconvert_exporter": "python",
   "pygments_lexer": "ipython3",
   "version": "3.11.4"
  }
 },
 "nbformat": 4,
 "nbformat_minor": 5
}
